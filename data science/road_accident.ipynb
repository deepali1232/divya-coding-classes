{
 "cells": [
  {
   "cell_type": "code",
   "execution_count": 4,
   "id": "2ac52457-967c-4c0a-87a1-ea41fa34b8c9",
   "metadata": {},
   "outputs": [],
   "source": [
    "#loading required library\n",
    "import pandas as pd\n",
    "from matplotlib import pyplot as plt\n",
    "import seaborn as sns"
   ]
  },
  {
   "cell_type": "code",
   "execution_count": 5,
   "id": "48e0e220-4eea-466b-9ce6-faac02b5b924",
   "metadata": {
    "tags": []
   },
   "outputs": [
    {
     "data": {
      "text/html": [
       "<div>\n",
       "<style scoped>\n",
       "    .dataframe tbody tr th:only-of-type {\n",
       "        vertical-align: middle;\n",
       "    }\n",
       "\n",
       "    .dataframe tbody tr th {\n",
       "        vertical-align: top;\n",
       "    }\n",
       "\n",
       "    .dataframe thead th {\n",
       "        text-align: right;\n",
       "    }\n",
       "</style>\n",
       "<table border=\"1\" class=\"dataframe\">\n",
       "  <thead>\n",
       "    <tr style=\"text-align: right;\">\n",
       "      <th></th>\n",
       "      <th>STATE</th>\n",
       "      <th>DAY_WEEK</th>\n",
       "      <th>LIGHT</th>\n",
       "      <th>WEATHER</th>\n",
       "      <th>ROAD_TYPE</th>\n",
       "      <th>VEHICLES</th>\n",
       "      <th>PERSONS</th>\n",
       "      <th>DRUNK_DRIVERS</th>\n",
       "      <th>FATALSUM</th>\n",
       "    </tr>\n",
       "  </thead>\n",
       "  <tbody>\n",
       "    <tr>\n",
       "      <th>0</th>\n",
       "      <td>1</td>\n",
       "      <td>6</td>\n",
       "      <td>1</td>\n",
       "      <td>1</td>\n",
       "      <td>2</td>\n",
       "      <td>1</td>\n",
       "      <td>1</td>\n",
       "      <td>1</td>\n",
       "      <td>1</td>\n",
       "    </tr>\n",
       "    <tr>\n",
       "      <th>1</th>\n",
       "      <td>1</td>\n",
       "      <td>1</td>\n",
       "      <td>3</td>\n",
       "      <td>1</td>\n",
       "      <td>2</td>\n",
       "      <td>1</td>\n",
       "      <td>2</td>\n",
       "      <td>1</td>\n",
       "      <td>2</td>\n",
       "    </tr>\n",
       "    <tr>\n",
       "      <th>2</th>\n",
       "      <td>1</td>\n",
       "      <td>6</td>\n",
       "      <td>3</td>\n",
       "      <td>10</td>\n",
       "      <td>1</td>\n",
       "      <td>2</td>\n",
       "      <td>2</td>\n",
       "      <td>0</td>\n",
       "      <td>1</td>\n",
       "    </tr>\n",
       "    <tr>\n",
       "      <th>3</th>\n",
       "      <td>1</td>\n",
       "      <td>1</td>\n",
       "      <td>3</td>\n",
       "      <td>1</td>\n",
       "      <td>1</td>\n",
       "      <td>1</td>\n",
       "      <td>1</td>\n",
       "      <td>1</td>\n",
       "      <td>4</td>\n",
       "    </tr>\n",
       "    <tr>\n",
       "      <th>4</th>\n",
       "      <td>1</td>\n",
       "      <td>3</td>\n",
       "      <td>3</td>\n",
       "      <td>2</td>\n",
       "      <td>2</td>\n",
       "      <td>1</td>\n",
       "      <td>1</td>\n",
       "      <td>0</td>\n",
       "      <td>2</td>\n",
       "    </tr>\n",
       "  </tbody>\n",
       "</table>\n",
       "</div>"
      ],
      "text/plain": [
       "   STATE  DAY_WEEK  LIGHT  WEATHER  ROAD_TYPE  VEHICLES  PERSONS  \\\n",
       "0      1         6      1        1          2         1        1   \n",
       "1      1         1      3        1          2         1        2   \n",
       "2      1         6      3       10          1         2        2   \n",
       "3      1         1      3        1          1         1        1   \n",
       "4      1         3      3        2          2         1        1   \n",
       "\n",
       "   DRUNK_DRIVERS  FATALSUM  \n",
       "0              1         1  \n",
       "1              1         2  \n",
       "2              0         1  \n",
       "3              1         4  \n",
       "4              0         2  "
      ]
     },
     "execution_count": 5,
     "metadata": {},
     "output_type": "execute_result"
    }
   ],
   "source": [
    "#loading dataset\n",
    "road_accident=pd.read_csv('road_accident.csv')\n",
    "#first five records of dataset\n",
    "road_accident.head()"
   ]
  },
  {
   "cell_type": "code",
   "execution_count": 7,
   "id": "455d7bf9-05ae-4614-aec2-d5f5917da5b2",
   "metadata": {
    "collapsed": true,
    "jupyter": {
     "outputs_hidden": true
    },
    "tags": []
   },
   "outputs": [
    {
     "data": {
      "text/plain": [
       "(20083, 9)"
      ]
     },
     "execution_count": 7,
     "metadata": {},
     "output_type": "execute_result"
    }
   ],
   "source": [
    "#number of rows and columns in dataset\n",
    "road_accident.shape"
   ]
  },
  {
   "cell_type": "code",
   "execution_count": 8,
   "id": "d9b77a57-2566-428f-8f2b-a10786600c8d",
   "metadata": {
    "collapsed": true,
    "jupyter": {
     "outputs_hidden": true
    },
    "tags": []
   },
   "outputs": [
    {
     "data": {
      "text/plain": [
       "7    3534\n",
       "6    3131\n",
       "1    3103\n",
       "5    2738\n",
       "2    2628\n",
       "4    2544\n",
       "3    2405\n",
       "Name: DAY_WEEK, dtype: int64"
      ]
     },
     "execution_count": 8,
     "metadata": {},
     "output_type": "execute_result"
    }
   ],
   "source": [
    "road_accident['DAY_WEEK'].value_counts()"
   ]
  },
  {
   "cell_type": "code",
   "execution_count": 10,
   "id": "c42cd7bd-b858-4461-84b1-84aaf030ee6e",
   "metadata": {
    "collapsed": true,
    "jupyter": {
     "outputs_hidden": true
    },
    "tags": []
   },
   "outputs": [
    {
     "data": {
      "text/plain": [
       "7    3534\n",
       "6    3131\n",
       "1    3103\n",
       "5    2738\n",
       "2    2628\n",
       "4    2544\n",
       "3    2405\n",
       "Name: DAY_WEEK, dtype: int64"
      ]
     },
     "execution_count": 10,
     "metadata": {},
     "output_type": "execute_result"
    }
   ],
   "source": [
    "road_accident['DAY_WEEK'].value_counts()[0:10] #TOP 10 PLAYERS"
   ]
  },
  {
   "cell_type": "code",
   "execution_count": 13,
   "id": "4f47deac-76e2-4748-bd3b-c169971fb69e",
   "metadata": {
    "collapsed": true,
    "jupyter": {
     "outputs_hidden": true
    },
    "tags": []
   },
   "outputs": [
    {
     "data": {
      "text/plain": [
       "7    3534\n",
       "6    3131\n",
       "1    3103\n",
       "5    2738\n",
       "2    2628\n",
       "Name: DAY_WEEK, dtype: int64"
      ]
     },
     "execution_count": 13,
     "metadata": {},
     "output_type": "execute_result"
    }
   ],
   "source": [
    "road_accident['DAY_WEEK'].value_counts()[0:5] #TOP 5 PLAYERS"
   ]
  },
  {
   "cell_type": "code",
   "execution_count": 15,
   "id": "2bf40aca-3475-467c-b907-4604ba4f9e45",
   "metadata": {
    "collapsed": true,
    "jupyter": {
     "outputs_hidden": true
    },
    "tags": []
   },
   "outputs": [
    {
     "data": {
      "text/plain": [
       "[7, 6, 1, 5, 2]"
      ]
     },
     "execution_count": 15,
     "metadata": {},
     "output_type": "execute_result"
    }
   ],
   "source": [
    "list(road_accident['DAY_WEEK'].value_counts()[0:5].keys()) #categorial data names only"
   ]
  },
  {
   "cell_type": "code",
   "execution_count": 16,
   "id": "aa1eeac3-d72f-4d2f-935e-21f175ebf985",
   "metadata": {},
   "outputs": [
    {
     "data": {
      "image/png": "[encoded data removed]",
      "text/plain": [
       "<Figure size 576x360 with 1 Axes>"
      ]
     },
     "metadata": {
      "needs_background": "light"
     },
     "output_type": "display_data"
    }
   ],
   "source": [
    "plt.figure(figsize=(8,5))\n",
    "plt.bar(list(road_accident['DAY_WEEK'].value_counts()[0:5].keys()),list(road_accident['DAY_WEEK'].value_counts()[0:5]),color='g')\n",
    "plt.show()"
   ]
  },
  {
   "cell_type": "code",
   "execution_count": 17,
   "id": "088e4c6d-8771-493c-8ac2-0a85d71e7009",
   "metadata": {
    "collapsed": true,
    "jupyter": {
     "outputs_hidden": true
    },
    "tags": []
   },
   "outputs": [
    {
     "data": {
      "text/plain": [
       "0    13912\n",
       "1     5929\n",
       "2      239\n",
       "3        3\n",
       "Name: DRUNK_DRIVERS, dtype: int64"
      ]
     },
     "execution_count": 17,
     "metadata": {},
     "output_type": "execute_result"
    }
   ],
   "source": [
    "#getting the frequency of DRUNK_DRIVERS column\n",
    "road_accident['DRUNK_DRIVERS'].value_counts()"
   ]
  },
  {
   "cell_type": "code",
   "execution_count": 20,
   "id": "a615b15a-4a39-4b44-af8f-e9aef4b7ac65",
   "metadata": {},
   "outputs": [
    {
     "data": {
      "image/png": "[encoded data removed]",
      "text/plain": [
       "<Figure size 360x504 with 1 Axes>"
      ]
     },
     "metadata": {
      "needs_background": "light"
     },
     "output_type": "display_data"
    }
   ],
   "source": [
    "plt.figure(figsize=(5,7))\n",
    "plt.hist(road_accident['WEATHER'])\n",
    "plt.title(\"distribution of weather\")\n",
    "plt.xlabel('WEATHER')\n",
    "plt.show()"
   ]
  },
  {
   "cell_type": "code",
   "execution_count": null,
   "id": "d166549c-8055-4238-b098-bf58b3621417",
   "metadata": {},
   "outputs": [],
   "source": []
  }
 ],
 "metadata": {
  "kernelspec": {
   "display_name": "Python 3",
   "language": "python",
   "name": "python3"
  },
  "language_info": {
   "codemirror_mode": {
    "name": "ipython",
    "version": 3
   },
   "file_extension": ".py",
   "mimetype": "text/x-python",
   "name": "python",
   "nbconvert_exporter": "python",
   "pygments_lexer": "ipython3",
   "version": "3.9.5"
  }
 },
 "nbformat": 4,
 "nbformat_minor": 5
}

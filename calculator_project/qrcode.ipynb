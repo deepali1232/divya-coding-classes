{
 "cells": [
  {
   "cell_type": "code",
   "execution_count": 8,
   "id": "531df267-1288-46b2-b7fd-ef62a7370564",
   "metadata": {},
   "outputs": [
    {
     "name": "stdout",
     "output_type": "stream",
     "text": [
      "Requirement already satisfied: pyqrcode in c:\\users\\hp\\appdata\\local\\programs\\python\\python39\\lib\\site-packages (1.2.1)Note: you may need to restart the kernel to use updated packages.\n",
      "\n"
     ]
    }
   ],
   "source": [
    "pip install pyqrcode"
   ]
  },
  {
   "cell_type": "code",
   "execution_count": 10,
   "id": "08c193c3-d5fa-4f4f-ac33-fc93139958d0",
   "metadata": {},
   "outputs": [
    {
     "name": "stdout",
     "output_type": "stream",
     "text": [
      "Requirement already satisfied: pypng in c:\\users\\hp\\appdata\\local\\programs\\python\\python39\\lib\\site-packages (0.0.20)Note: you may need to restart the kernel to use updated packages.\n",
      "\n"
     ]
    }
   ],
   "source": [
    "pip install pypng"
   ]
  },
  {
   "cell_type": "code",
   "execution_count": null,
   "id": "ec745a60-ce88-4a76-81b5-e9c1a8ab9701",
   "metadata": {},
   "outputs": [],
   "source": [
    "import pyqrcode"
   ]
  },
  {
   "cell_type": "code",
   "execution_count": 3,
   "id": "c53fc428-8516-451e-b54d-a8d781afdd15",
   "metadata": {},
   "outputs": [],
   "source": [
    "import png"
   ]
  },
  {
   "cell_type": "code",
   "execution_count": 4,
   "id": "c6b7c6ee-8930-439c-9aa8-dce189d105fd",
   "metadata": {},
   "outputs": [],
   "source": [
    "from pyqrcode import QRCode"
   ]
  },
  {
   "cell_type": "code",
   "execution_count": 5,
   "id": "e7de2099-3a43-4a85-907e-562c07c084e9",
   "metadata": {},
   "outputs": [],
   "source": [
    "site=\"https://www.grealearning.in/academy\"\n"
   ]
  },
  {
   "cell_type": "code",
   "execution_count": 6,
   "id": "862e14b3-255c-4c92-9d35-4befdc732b38",
   "metadata": {},
   "outputs": [],
   "source": [
    "url_qr=pyqrcode.create(site)\n"
   ]
  },
  {
   "cell_type": "code",
   "execution_count": 7,
   "id": "9b774227-07a1-4618-bdeb-8c83d8a86e2b",
   "metadata": {},
   "outputs": [],
   "source": [
    "url_qr.svg(\"great.svg\",scale=8)\n",
    "url_qr.png('great.png',scale=6)"
   ]
  },
  {
   "cell_type": "code",
   "execution_count": null,
   "id": "652158f8-b69f-487c-825d-a1240ab02f25",
   "metadata": {},
   "outputs": [],
   "source": []
  }
 ],
 "metadata": {
  "kernelspec": {
   "display_name": "Python 3",
   "language": "python",
   "name": "python3"
  },
  "language_info": {
   "codemirror_mode": {
    "name": "ipython",
    "version": 3
   },
   "file_extension": ".py",
   "mimetype": "text/x-python",
   "name": "python",
   "nbconvert_exporter": "python",
   "pygments_lexer": "ipython3",
   "version": "3.9.5"
  }
 },
 "nbformat": 4,
 "nbformat_minor": 5
}

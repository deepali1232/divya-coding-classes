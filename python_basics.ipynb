{
 "cells": [
  {
   "cell_type": "code",
   "execution_count": null,
   "id": "d920d3e1-a726-4790-bde4-60cdb5cfc020",
   "metadata": {},
   "outputs": [],
   "source": [
    "#first python print program\n"
   ]
  },
  {
   "cell_type": "code",
   "execution_count": null,
   "id": "3e4ca45b-9d82-45f0-a2d1-e2e978f315cc",
   "metadata": {},
   "outputs": [],
   "source": [
    "print(\"My name is divya and i want to become a assitant professor\")"
   ]
  },
  {
   "cell_type": "code",
   "execution_count": null,
   "id": "be2fcabf-d08b-4dac-ba75-dc8e359c8ab6",
   "metadata": {},
   "outputs": [],
   "source": [
    "#variables in python"
   ]
  },
  {
   "cell_type": "code",
   "execution_count": null,
   "id": "8bd17457-cf56-47c6-bf9e-1a6cefdb00e2",
   "metadata": {},
   "outputs": [],
   "source": [
    "stu='divya'\n",
    "Stu='riya'\n",
    "print('stu')"
   ]
  },
  {
   "cell_type": "code",
   "execution_count": null,
   "id": "bc71411e-abe0-4a35-af2f-ad85f4ed0265",
   "metadata": {},
   "outputs": [],
   "source": [
    "print('Stu')"
   ]
  },
  {
   "cell_type": "code",
   "execution_count": null,
   "id": "6f92c5c8-e08c-4cb7-9745-9b83499f55ef",
   "metadata": {},
   "outputs": [],
   "source": [
    "#datatype in python"
   ]
  },
  {
   "cell_type": "code",
   "execution_count": 9,
   "id": "713d055f-f76c-4727-8501-5ac2d0149132",
   "metadata": {},
   "outputs": [
    {
     "name": "stdout",
     "output_type": "stream",
     "text": [
      "10\n"
     ]
    }
   ],
   "source": [
    "a1=10\n",
    "print(a1)\n"
   ]
  },
  {
   "cell_type": "code",
   "execution_count": 10,
   "id": "3959c85a-8f4c-4071-a106-d6c8ea46f743",
   "metadata": {},
   "outputs": [
    {
     "name": "stdout",
     "output_type": "stream",
     "text": [
      "<class 'int'>\n"
     ]
    }
   ],
   "source": [
    "print(type(a1))"
   ]
  },
  {
   "cell_type": "code",
   "execution_count": 11,
   "id": "d58f18c4-f19b-4a4f-818d-d885e177c6c6",
   "metadata": {},
   "outputs": [
    {
     "name": "stdout",
     "output_type": "stream",
     "text": [
      "19.0\n"
     ]
    }
   ],
   "source": [
    "a2=19.0\n",
    "print(a2)"
   ]
  },
  {
   "cell_type": "code",
   "execution_count": 12,
   "id": "61403099-483c-437e-823f-91deb395e936",
   "metadata": {},
   "outputs": [
    {
     "name": "stdout",
     "output_type": "stream",
     "text": [
      "<class 'float'>\n"
     ]
    }
   ],
   "source": [
    "print(type(a2))"
   ]
  },
  {
   "cell_type": "code",
   "execution_count": 13,
   "id": "6a0572f3-a50e-4b58-93c8-590ed3fd1426",
   "metadata": {},
   "outputs": [
    {
     "name": "stdout",
     "output_type": "stream",
     "text": [
      "True\n"
     ]
    }
   ],
   "source": [
    "a3=True\n",
    "print(a3)"
   ]
  },
  {
   "cell_type": "code",
   "execution_count": 14,
   "id": "179c03d6-6e59-4eed-a571-6965899dfe41",
   "metadata": {},
   "outputs": [
    {
     "name": "stdout",
     "output_type": "stream",
     "text": [
      "<class 'bool'>\n"
     ]
    }
   ],
   "source": [
    "print(type(a3))"
   ]
  },
  {
   "cell_type": "code",
   "execution_count": 15,
   "id": "c52c42a9-7e7d-4a47-a660-fbeaf6e184d3",
   "metadata": {},
   "outputs": [
    {
     "name": "stdout",
     "output_type": "stream",
     "text": [
      "this is me\n"
     ]
    }
   ],
   "source": [
    "a4='this is me'\n",
    "print(a4)"
   ]
  },
  {
   "cell_type": "code",
   "execution_count": 16,
   "id": "e8bb9637-a3ba-4f22-b028-74857ce4bfee",
   "metadata": {},
   "outputs": [
    {
     "name": "stdout",
     "output_type": "stream",
     "text": [
      "<class 'str'>\n"
     ]
    }
   ],
   "source": [
    "print(type(a4))"
   ]
  },
  {
   "cell_type": "code",
   "execution_count": 17,
   "id": "b8058eab-2a8c-46bb-87d4-4455ae97480e",
   "metadata": {},
   "outputs": [
    {
     "name": "stdout",
     "output_type": "stream",
     "text": [
      "(3+5j)\n"
     ]
    }
   ],
   "source": [
    "a5=3+5j\n",
    "print(a5)"
   ]
  },
  {
   "cell_type": "code",
   "execution_count": 18,
   "id": "129b4f98-ed9d-45a6-bdd2-2c08a64dff65",
   "metadata": {},
   "outputs": [
    {
     "name": "stdout",
     "output_type": "stream",
     "text": [
      "<class 'complex'>\n"
     ]
    }
   ],
   "source": [
    "print(type(a5))"
   ]
  },
  {
   "cell_type": "code",
   "execution_count": 19,
   "id": "3fdc6ad0-3b99-4a51-98d2-96f5d1c61a46",
   "metadata": {},
   "outputs": [],
   "source": [
    "#operator in python"
   ]
  },
  {
   "cell_type": "code",
   "execution_count": 20,
   "id": "fec8b50f-2f43-4be3-98b9-ebbd6f366b68",
   "metadata": {},
   "outputs": [
    {
     "name": "stdout",
     "output_type": "stream",
     "text": [
      "30\n"
     ]
    }
   ],
   "source": [
    "a=10\n",
    "b=20\n",
    "print(a+b)            #addition\n"
   ]
  },
  {
   "cell_type": "code",
   "execution_count": 21,
   "id": "2faa1b23-9cb4-47b3-84dd-1954417bda50",
   "metadata": {},
   "outputs": [
    {
     "name": "stdout",
     "output_type": "stream",
     "text": [
      "-10\n"
     ]
    }
   ],
   "source": [
    "print(a-b)           #subtraction"
   ]
  },
  {
   "cell_type": "code",
   "execution_count": 22,
   "id": "f0075aa7-90b4-4ba0-a7f3-70e8f5dad59b",
   "metadata": {},
   "outputs": [
    {
     "name": "stdout",
     "output_type": "stream",
     "text": [
      "200\n"
     ]
    }
   ],
   "source": [
    "print(a*b)           #multiply"
   ]
  },
  {
   "cell_type": "code",
   "execution_count": 23,
   "id": "fb69702b-6f5c-41ee-be51-9c4bfee701fd",
   "metadata": {},
   "outputs": [
    {
     "name": "stdout",
     "output_type": "stream",
     "text": [
      "0.5\n"
     ]
    }
   ],
   "source": [
    "print(a/b)           #divide"
   ]
  },
  {
   "cell_type": "code",
   "execution_count": 24,
   "id": "48423798-da46-4f5d-8386-67427e235514",
   "metadata": {},
   "outputs": [
    {
     "name": "stdout",
     "output_type": "stream",
     "text": [
      "100\n"
     ]
    }
   ],
   "source": [
    "print(a**2)          #exponent"
   ]
  },
  {
   "cell_type": "code",
   "execution_count": 25,
   "id": "5326207c-8e6b-49de-9ab6-3b0b27549d08",
   "metadata": {},
   "outputs": [
    {
     "name": "stdout",
     "output_type": "stream",
     "text": [
      "0\n"
     ]
    }
   ],
   "source": [
    "print(a//b)          #remainder"
   ]
  },
  {
   "cell_type": "code",
   "execution_count": 26,
   "id": "93491c75-bf25-40d1-87ce-e228efe19c5f",
   "metadata": {},
   "outputs": [],
   "source": [
    "#relational operator"
   ]
  },
  {
   "cell_type": "code",
   "execution_count": 27,
   "id": "9b2a3502-c51c-4ee7-a0ce-a56258528c9a",
   "metadata": {},
   "outputs": [
    {
     "name": "stdout",
     "output_type": "stream",
     "text": [
      "20 30\n"
     ]
    }
   ],
   "source": [
    "a=20\n",
    "b=30\n",
    "print(a,b)"
   ]
  },
  {
   "cell_type": "code",
   "execution_count": 32,
   "id": "e0ae9fc3-0e8b-418b-a434-a77fd701fe5d",
   "metadata": {},
   "outputs": [
    {
     "name": "stdout",
     "output_type": "stream",
     "text": [
      "False\n"
     ]
    }
   ],
   "source": [
    "c=a>b\n",
    "print(c)"
   ]
  },
  {
   "cell_type": "code",
   "execution_count": 29,
   "id": "1a61c24f-b8eb-48e0-a265-06f83d7e73e0",
   "metadata": {},
   "outputs": [
    {
     "name": "stdout",
     "output_type": "stream",
     "text": [
      "True\n"
     ]
    }
   ],
   "source": [
    "c=a<b\n",
    "print(c)"
   ]
  },
  {
   "cell_type": "code",
   "execution_count": 33,
   "id": "a9dbc514-9cdd-4f8d-ae76-841a29fea3ba",
   "metadata": {},
   "outputs": [
    {
     "name": "stdout",
     "output_type": "stream",
     "text": [
      "False\n"
     ]
    }
   ],
   "source": [
    "c=a>=b\n",
    "print(c)"
   ]
  },
  {
   "cell_type": "code",
   "execution_count": 34,
   "id": "63dbe05f-73c2-47ac-8006-79ab11517032",
   "metadata": {},
   "outputs": [
    {
     "name": "stdout",
     "output_type": "stream",
     "text": [
      "True\n"
     ]
    }
   ],
   "source": [
    "c=a<=b\n",
    "print(c)"
   ]
  },
  {
   "cell_type": "code",
   "execution_count": 35,
   "id": "719481c1-9060-4740-b98b-bca3a8de7d05",
   "metadata": {},
   "outputs": [
    {
     "name": "stdout",
     "output_type": "stream",
     "text": [
      "True\n"
     ]
    }
   ],
   "source": [
    "c=a!=b\n",
    "print(c)"
   ]
  },
  {
   "cell_type": "code",
   "execution_count": 36,
   "id": "5554292f-a5d1-4b6c-a17e-5c30db4f78f9",
   "metadata": {},
   "outputs": [
    {
     "name": "stdout",
     "output_type": "stream",
     "text": [
      "False\n"
     ]
    }
   ],
   "source": [
    "c=a==b\n",
    "print(c)"
   ]
  },
  {
   "cell_type": "code",
   "execution_count": 37,
   "id": "0b4846a0-d2b5-4a1b-ac82-756a665a2106",
   "metadata": {},
   "outputs": [],
   "source": [
    "#logical operator"
   ]
  },
  {
   "cell_type": "code",
   "execution_count": 38,
   "id": "775300aa-e1cd-4731-87d5-2c1ddcdf01db",
   "metadata": {},
   "outputs": [
    {
     "name": "stdout",
     "output_type": "stream",
     "text": [
      "True False\n"
     ]
    }
   ],
   "source": [
    "a=True\n",
    "b=False\n",
    "print(a,b)"
   ]
  },
  {
   "cell_type": "code",
   "execution_count": 41,
   "id": "91d05cc4-8db5-476e-8a31-c3f40e754df6",
   "metadata": {},
   "outputs": [
    {
     "name": "stdout",
     "output_type": "stream",
     "text": [
      "True\n"
     ]
    }
   ],
   "source": [
    "c=a or a\n",
    "print(c)"
   ]
  },
  {
   "cell_type": "code",
   "execution_count": 43,
   "id": "52956cb0-74e9-4e24-a7f9-af5196e4ac50",
   "metadata": {},
   "outputs": [
    {
     "name": "stdout",
     "output_type": "stream",
     "text": [
      "False\n"
     ]
    }
   ],
   "source": [
    "c=b or b\n",
    "print(c)"
   ]
  },
  {
   "cell_type": "code",
   "execution_count": 44,
   "id": "b3a7c37b-f655-4555-9217-2e2d6cc257f8",
   "metadata": {},
   "outputs": [
    {
     "name": "stdout",
     "output_type": "stream",
     "text": [
      "True\n"
     ]
    }
   ],
   "source": [
    "c=a or b\n",
    "print(c)"
   ]
  },
  {
   "cell_type": "code",
   "execution_count": 46,
   "id": "ba81be70-0b13-4e18-8b06-2140c26a0d69",
   "metadata": {},
   "outputs": [
    {
     "name": "stdout",
     "output_type": "stream",
     "text": [
      "False\n"
     ]
    }
   ],
   "source": [
    "c=a & b\n",
    "print(c)"
   ]
  },
  {
   "cell_type": "code",
   "execution_count": 47,
   "id": "bf969de9-b40f-4f12-ae16-bb35f5f389e1",
   "metadata": {},
   "outputs": [
    {
     "name": "stdout",
     "output_type": "stream",
     "text": [
      "True\n"
     ]
    }
   ],
   "source": [
    "c= a & a\n",
    "print(c)"
   ]
  },
  {
   "cell_type": "code",
   "execution_count": 48,
   "id": "68da2fbd-6649-4589-9565-dbbcac6b8325",
   "metadata": {},
   "outputs": [
    {
     "name": "stdout",
     "output_type": "stream",
     "text": [
      "False\n"
     ]
    }
   ],
   "source": [
    "c=b & b\n",
    "print(c)"
   ]
  },
  {
   "cell_type": "markdown",
   "id": "00cbc513-678d-4a72-80ee-360d0f4e2b4a",
   "metadata": {},
   "source": [
    "string function"
   ]
  },
  {
   "cell_type": "code",
   "execution_count": 49,
   "id": "a9c94a22-4c39-4c94-9f20-754b5f23eff0",
   "metadata": {},
   "outputs": [
    {
     "name": "stdout",
     "output_type": "stream",
     "text": [
      "i am dibu\n"
     ]
    }
   ],
   "source": [
    "a1='i am dibu'\n",
    "print(a1)"
   ]
  },
  {
   "cell_type": "code",
   "execution_count": 50,
   "id": "2dffaa0f-b61d-4791-9f1f-bbd623cc2891",
   "metadata": {},
   "outputs": [
    {
     "name": "stdout",
     "output_type": "stream",
     "text": [
      "i am srivastava\n"
     ]
    }
   ],
   "source": [
    "a2=\"i am srivastava\"\n",
    "print(a2)"
   ]
  },
  {
   "cell_type": "code",
   "execution_count": 54,
   "id": "f6dfde86-2b59-4ccc-9105-89c5bb4b4a8c",
   "metadata": {},
   "outputs": [
    {
     "name": "stdout",
     "output_type": "stream",
     "text": [
      "i\n",
      "am \n",
      "divya\n",
      "\n"
     ]
    }
   ],
   "source": [
    "a3='''i\n",
    "am \n",
    "divya\n",
    "'''\n",
    "print(a3)"
   ]
  },
  {
   "cell_type": "markdown",
   "id": "dec8a790-d0b5-490a-8aed-1f35ac750d2d",
   "metadata": {},
   "source": [
    "extracting individual element"
   ]
  },
  {
   "cell_type": "code",
   "execution_count": 56,
   "id": "8b6e4398-e9ed-4514-9361-bf7bfd212754",
   "metadata": {},
   "outputs": [
    {
     "name": "stdout",
     "output_type": "stream",
     "text": [
      "my name is divya srivastva.i want to make a developer\n"
     ]
    }
   ],
   "source": [
    "a1=\"my name is divya srivastva.i want to make a developer\"\n",
    "print(a1)"
   ]
  },
  {
   "cell_type": "code",
   "execution_count": 58,
   "id": "fb065c69-6ec5-48df-b16c-442f03ede6d7",
   "metadata": {},
   "outputs": [
    {
     "name": "stdout",
     "output_type": "stream",
     "text": [
      "m\n"
     ]
    }
   ],
   "source": [
    "c=a1[0]       #first char\n",
    "print(c)"
   ]
  },
  {
   "cell_type": "code",
   "execution_count": 59,
   "id": "2584a290-259c-4930-9146-9a04c73f7837",
   "metadata": {},
   "outputs": [
    {
     "name": "stdout",
     "output_type": "stream",
     "text": [
      "r\n"
     ]
    }
   ],
   "source": [
    "c=a1[-1]        #last char\n",
    "print(c)"
   ]
  },
  {
   "cell_type": "code",
   "execution_count": 60,
   "id": "3d5d3dce-7189-471e-b3d9-dbb6305b2710",
   "metadata": {},
   "outputs": [
    {
     "name": "stdout",
     "output_type": "stream",
     "text": [
      "y name \n"
     ]
    }
   ],
   "source": [
    "c=a1[1:8]             #char from 1 to 7\n",
    "print(c)"
   ]
  },
  {
   "cell_type": "code",
   "execution_count": 61,
   "id": "59c344ae-b68e-4e4a-94bf-ec57f00193ef",
   "metadata": {},
   "outputs": [
    {
     "name": "stdout",
     "output_type": "stream",
     "text": [
      "repoleved a ekam ot tnaw i.avtsavirs ayvid si eman ym\n"
     ]
    }
   ],
   "source": [
    "c=a1[::-1]         #reverse string\n",
    "print(c)"
   ]
  },
  {
   "cell_type": "code",
   "execution_count": 62,
   "id": "6528e020-81af-41d2-bc4d-e645fea13f93",
   "metadata": {},
   "outputs": [
    {
     "name": "stdout",
     "output_type": "stream",
     "text": [
      "my name is divya srivastva.i want to make a developer\n"
     ]
    }
   ],
   "source": [
    "c=a1[0:]\n",
    "print(c)      #from 0 to end"
   ]
  },
  {
   "cell_type": "code",
   "execution_count": 63,
   "id": "390e596c-e403-4bb2-800f-bcec917b1936",
   "metadata": {},
   "outputs": [
    {
     "name": "stdout",
     "output_type": "stream",
     "text": [
      "my name i\n"
     ]
    }
   ],
   "source": [
    "c=a1[:9]\n",
    "print(c)       #from strt to 8"
   ]
  },
  {
   "cell_type": "code",
   "execution_count": 64,
   "id": "e6853719-dfb0-41c4-875d-254d8e249e1f",
   "metadata": {},
   "outputs": [
    {
     "name": "stdout",
     "output_type": "stream",
     "text": [
      "ym\n"
     ]
    }
   ],
   "source": [
    "c=a1[1::-1]    #reverse of 1st word\n",
    "print(c)"
   ]
  },
  {
   "cell_type": "code",
   "execution_count": 65,
   "id": "41f2854d-6184-458c-b661-285e7b4cbcba",
   "metadata": {},
   "outputs": [
    {
     "name": "stdout",
     "output_type": "stream",
     "text": [
      "lope\n"
     ]
    }
   ],
   "source": [
    "c=a1[-5:-1]    #-4 to -1 char\n",
    "print(c)"
   ]
  },
  {
   "cell_type": "markdown",
   "id": "b08fc37a-c2c3-475f-9dee-e5c4db4501aa",
   "metadata": {},
   "source": [
    "finding length of string"
   ]
  },
  {
   "cell_type": "code",
   "execution_count": 66,
   "id": "240a208d-7543-4bd5-b68a-317de17426a5",
   "metadata": {},
   "outputs": [
    {
     "name": "stdout",
     "output_type": "stream",
     "text": [
      "my bff is ayushi ,riya\n"
     ]
    }
   ],
   "source": [
    "string='my bff is ayushi ,riya'\n",
    "print(string)"
   ]
  },
  {
   "cell_type": "code",
   "execution_count": 67,
   "id": "906e98c1-46a0-4ada-9786-0496d91d1872",
   "metadata": {},
   "outputs": [
    {
     "name": "stdout",
     "output_type": "stream",
     "text": [
      "22\n"
     ]
    }
   ],
   "source": [
    "print(len(string))            #22 char in string"
   ]
  },
  {
   "cell_type": "markdown",
   "id": "a0b8a85f-3565-4654-a92c-b5375c9b2fca",
   "metadata": {},
   "source": [
    "convert string upper to lower"
   ]
  },
  {
   "cell_type": "code",
   "execution_count": 68,
   "id": "2b1abed9-2631-4401-a490-7a4ff2ba4288",
   "metadata": {},
   "outputs": [
    {
     "name": "stdout",
     "output_type": "stream",
     "text": [
      "what do you do\n"
     ]
    }
   ],
   "source": [
    "string='WHAT DO YOU DO'\n",
    "print(string.lower())"
   ]
  },
  {
   "cell_type": "markdown",
   "id": "3260d05b-b24d-40fd-adf5-ecd7159d3942",
   "metadata": {},
   "source": [
    "convert string lower to upper\n"
   ]
  },
  {
   "cell_type": "code",
   "execution_count": 69,
   "id": "880b6aaa-897e-4c4f-9876-75da561461ad",
   "metadata": {},
   "outputs": [
    {
     "name": "stdout",
     "output_type": "stream",
     "text": [
      "MAKE EVERY ONE HAPPY\n"
     ]
    }
   ],
   "source": [
    "string='make every one happy'\n",
    "print(string.upper())"
   ]
  },
  {
   "cell_type": "markdown",
   "id": "b47b59b8-28ac-49ee-8ffc-b3af72df37d4",
   "metadata": {},
   "source": [
    "capitalize string"
   ]
  },
  {
   "cell_type": "code",
   "execution_count": 70,
   "id": "b2426e69-a413-45c3-b905-4296f9528434",
   "metadata": {},
   "outputs": [
    {
     "name": "stdout",
     "output_type": "stream",
     "text": [
      "Its ok\n"
     ]
    }
   ],
   "source": [
    "string='its ok'\n",
    "print(string.capitalize())          #first letter capital"
   ]
  },
  {
   "cell_type": "markdown",
   "id": "4e4510fe-86b3-4c33-bc9d-ccc46540cf2a",
   "metadata": {},
   "source": [
    "replace a substring"
   ]
  },
  {
   "cell_type": "code",
   "execution_count": 71,
   "id": "1daa0443-339e-436c-a497-0caaebcd9a87",
   "metadata": {},
   "outputs": [
    {
     "name": "stdout",
     "output_type": "stream",
     "text": [
      "i am sad\n"
     ]
    }
   ],
   "source": [
    "string ='i am happy'\n",
    "print(string.replace('happy','sad'))        #happy replace with sad"
   ]
  },
  {
   "cell_type": "markdown",
   "id": "8dfff22a-dad2-41a6-a38b-5d6346921614",
   "metadata": {},
   "source": [
    "occurence of word"
   ]
  },
  {
   "cell_type": "code",
   "execution_count": 72,
   "id": "adf3e0de-6af1-4d61-bd61-7666d7163e5d",
   "metadata": {},
   "outputs": [
    {
     "name": "stdout",
     "output_type": "stream",
     "text": [
      "3\n"
     ]
    }
   ],
   "source": [
    "string='i am waiting for you,you and you'\n",
    "print(string.count('you'))                     # you comes 3 times"
   ]
  },
  {
   "cell_type": "markdown",
   "id": "e20e8676-becd-49ff-a085-fcd653d414c9",
   "metadata": {},
   "source": [
    "find the index of any word"
   ]
  },
  {
   "cell_type": "code",
   "execution_count": 74,
   "id": "51617a6c-b398-40a5-b974-066ced88500a",
   "metadata": {},
   "outputs": [
    {
     "name": "stdout",
     "output_type": "stream",
     "text": [
      "10\n"
     ]
    }
   ],
   "source": [
    "string='i a happy with you'        #with is at index 10\n",
    "print(string.find('with'))"
   ]
  },
  {
   "cell_type": "markdown",
   "id": "95ad9ee3-9b19-4abf-86e8-c40be50ef7f8",
   "metadata": {},
   "source": [
    "split a string"
   ]
  },
  {
   "cell_type": "code",
   "execution_count": 76,
   "id": "a7600b04-adb1-47c6-991c-7679d59f3014",
   "metadata": {},
   "outputs": [
    {
     "name": "stdout",
     "output_type": "stream",
     "text": [
      "['i am waiting', 'happy singh is gud,i am sad', '']\n"
     ]
    }
   ],
   "source": [
    "string='i am waiting.happy singh is gud,i am sad.'\n",
    "print(string.split('.'))"
   ]
  },
  {
   "cell_type": "code",
   "execution_count": 77,
   "id": "1cfab0d6-c427-4b70-8753-dc916396a640",
   "metadata": {},
   "outputs": [
    {
     "name": "stdout",
     "output_type": "stream",
     "text": [
      "['i am waiting.happy singh is gud', 'i am sad.']\n"
     ]
    }
   ],
   "source": [
    "print(string.split(','))"
   ]
  },
  {
   "cell_type": "markdown",
   "id": "434aa56b-624d-4793-bf46-e270fd3ab9dd",
   "metadata": {},
   "source": [
    "tuples in python"
   ]
  },
  {
   "cell_type": "code",
   "execution_count": 78,
   "id": "3ecd5a88-764b-4827-930a-d7c1d5841c35",
   "metadata": {},
   "outputs": [
    {
     "name": "stdout",
     "output_type": "stream",
     "text": [
      "('divya', 'riya', 12, 'oyo')\n"
     ]
    }
   ],
   "source": [
    "t1=('divya','riya',12,'oyo')\n",
    "print(t1)"
   ]
  },
  {
   "cell_type": "code",
   "execution_count": 79,
   "id": "d476951f-6d43-42dc-b5f6-3c98cea16458",
   "metadata": {},
   "outputs": [
    {
     "name": "stdout",
     "output_type": "stream",
     "text": [
      "<class 'tuple'>\n"
     ]
    }
   ],
   "source": [
    "print(type(t1))"
   ]
  },
  {
   "cell_type": "markdown",
   "id": "3714f41b-84b3-4af8-92c4-6b2d96dfcd83",
   "metadata": {},
   "source": [
    "extract elelment from tuple"
   ]
  },
  {
   "cell_type": "code",
   "execution_count": 80,
   "id": "f97cdfa2-fc69-46fb-afb3-533e653d4283",
   "metadata": {},
   "outputs": [
    {
     "name": "stdout",
     "output_type": "stream",
     "text": [
      "('divya', 'riya', 12, 'oyo')\n"
     ]
    }
   ],
   "source": [
    "t2=('jiya','piya',100,True)\n",
    "print(t1)"
   ]
  },
  {
   "cell_type": "code",
   "execution_count": 82,
   "id": "ceb153cb-d7f4-4d7e-bc7b-210cda970215",
   "metadata": {},
   "outputs": [
    {
     "name": "stdout",
     "output_type": "stream",
     "text": [
      "divya\n"
     ]
    }
   ],
   "source": [
    "c=t1[0]                          #first char from tuple\n",
    "print(c)"
   ]
  },
  {
   "cell_type": "code",
   "execution_count": 83,
   "id": "eefd052c-6f76-45ca-9d5f-6fbe1cbe00c0",
   "metadata": {},
   "outputs": [
    {
     "name": "stdout",
     "output_type": "stream",
     "text": [
      "('divya', 'riya', 12)\n"
     ]
    }
   ],
   "source": [
    "c=t1[0:3]                         #tup element from 0 to 2\n",
    "print(c)"
   ]
  },
  {
   "cell_type": "code",
   "execution_count": 84,
   "id": "1bcbb5c9-777f-4eb5-a58b-4ed2a5696b10",
   "metadata": {},
   "outputs": [
    {
     "name": "stdout",
     "output_type": "stream",
     "text": [
      "oyo\n"
     ]
    }
   ],
   "source": [
    "c=t1[-1]                        #last tup element\n",
    "print(c)"
   ]
  },
  {
   "cell_type": "code",
   "execution_count": 85,
   "id": "6d3714ae-883a-4d4e-ab6f-7bab29106df8",
   "metadata": {},
   "outputs": [
    {
     "name": "stdout",
     "output_type": "stream",
     "text": [
      "('oyo', 12, 'riya', 'divya')\n"
     ]
    }
   ],
   "source": [
    "c=t1[::-1]                          #reverse tuple element\n",
    "print(c)"
   ]
  },
  {
   "cell_type": "markdown",
   "id": "44feea3c-955d-4660-9531-4f5b6c3b3c6d",
   "metadata": {},
   "source": [
    "length of tuple"
   ]
  },
  {
   "cell_type": "code",
   "execution_count": 86,
   "id": "d4d6be9b-ade0-4872-ae89-c581fa4b254c",
   "metadata": {},
   "outputs": [
    {
     "name": "stdout",
     "output_type": "stream",
     "text": [
      "<class 'tuple'>\n"
     ]
    }
   ],
   "source": [
    "t1=(12,True,'gita')\n",
    "print(type(t1))"
   ]
  },
  {
   "cell_type": "markdown",
   "id": "97eea0e2-c236-458f-8647-427dd6711547",
   "metadata": {},
   "source": [
    "concatenate tuple"
   ]
  },
  {
   "cell_type": "code",
   "execution_count": 89,
   "id": "55993f75-142a-4ee5-9130-1e79b7350e5f",
   "metadata": {},
   "outputs": [
    {
     "name": "stdout",
     "output_type": "stream",
     "text": [
      "('divya', 'priya', 100, (3+4j))\n"
     ]
    },
    {
     "data": {
      "text/plain": [
       "('divya', 'priya', 100, (3+4j))"
      ]
     },
     "execution_count": 89,
     "metadata": {},
     "output_type": "execute_result"
    }
   ],
   "source": [
    "t1=('divya','priya')\n",
    "t2=(100,3+4j)\n",
    "print(t1+t2) \n",
    "c=t1+t2\n",
    "c#add both tuple"
   ]
  },
  {
   "cell_type": "markdown",
   "id": "96e1c5c1-a7ce-4df9-a623-e5aaf42e2ec3",
   "metadata": {},
   "source": [
    "repeat tuple element"
   ]
  },
  {
   "cell_type": "code",
   "execution_count": 90,
   "id": "2cd1886a-8511-47c7-86a9-31df72b4216b",
   "metadata": {},
   "outputs": [
    {
     "name": "stdout",
     "output_type": "stream",
     "text": [
      "(1, 1, 2, 1, 1, 2, 1, 1, 2)\n"
     ]
    }
   ],
   "source": [
    "tup1=(1,1,2)\n",
    "print(tup1*3)                  #repeat 3 times"
   ]
  },
  {
   "cell_type": "markdown",
   "id": "44217800-c2d3-43eb-9b5b-5fd5a7b18cc9",
   "metadata": {},
   "source": [
    "repeating and concatente"
   ]
  },
  {
   "cell_type": "code",
   "execution_count": 96,
   "id": "fdef2dc1-76bc-4d19-96ce-c68baacae199",
   "metadata": {},
   "outputs": [
    {
     "name": "stdout",
     "output_type": "stream",
     "text": [
      "(12, 13, 14, 45, 'you', 45, 'you', 45, 'you')\n"
     ]
    }
   ],
   "source": [
    "t1=(12,13,14)\n",
    "t2=(45,'you')\n",
    "print(t1+t2*3)"
   ]
  },
  {
   "cell_type": "markdown",
   "id": "7c68a47c-6497-43a2-9388-51745349bb89",
   "metadata": {},
   "source": [
    "minimum value of tuple"
   ]
  },
  {
   "cell_type": "code",
   "execution_count": 97,
   "id": "938cc328-e1e2-4a7d-8924-4f5586ea7f31",
   "metadata": {},
   "outputs": [
    {
     "name": "stdout",
     "output_type": "stream",
     "text": [
      "1\n"
     ]
    }
   ],
   "source": [
    "t1=(1,25,23)                     # 1 is min\n",
    "print(min(t1))"
   ]
  },
  {
   "cell_type": "markdown",
   "id": "284a4340-74a2-4a92-b348-401e8509744d",
   "metadata": {},
   "source": [
    "max value of tuple"
   ]
  },
  {
   "cell_type": "code",
   "execution_count": 98,
   "id": "808dac05-0042-431d-ae01-86d1d99d7b09",
   "metadata": {},
   "outputs": [
    {
     "name": "stdout",
     "output_type": "stream",
     "text": [
      "87\n"
     ]
    }
   ],
   "source": [
    "t1=(12,34,87)                 # 87 is max\n",
    "print(max(t1))"
   ]
  },
  {
   "cell_type": "code",
   "execution_count": 101,
   "id": "5810388b-c5a3-4c21-9369-f6a14a2370fb",
   "metadata": {},
   "outputs": [
    {
     "name": "stdout",
     "output_type": "stream",
     "text": [
      "3\n"
     ]
    }
   ],
   "source": [
    "print(len(t1))                     # 3 element in tuple"
   ]
  },
  {
   "cell_type": "code",
   "execution_count": 103,
   "id": "05d95a38-7f63-493b-8bba-dc0b3479225b",
   "metadata": {},
   "outputs": [
    {
     "name": "stdout",
     "output_type": "stream",
     "text": [
      "[10, 20, 30]\n"
     ]
    }
   ],
   "source": [
    "l1=[10,20,30]\n",
    "print(l1)"
   ]
  },
  {
   "cell_type": "code",
   "execution_count": 104,
   "id": "dc3b96d3-642a-4540-abce-4f7685002744",
   "metadata": {},
   "outputs": [
    {
     "data": {
      "text/plain": [
       "list"
      ]
     },
     "execution_count": 104,
     "metadata": {},
     "output_type": "execute_result"
    }
   ],
   "source": [
    "print(type(l1))"
   ]
  },
  {
   "cell_type": "markdown",
   "id": "088090be-00b1-4a08-bae9-a07e573b0232",
   "metadata": {},
   "source": [
    "extract element from list"
   ]
  },
  {
   "cell_type": "code",
   "execution_count": 105,
   "id": "0317feee-a143-48f4-bbf5-f66ff65fe04d",
   "metadata": {},
   "outputs": [
    {
     "name": "stdout",
     "output_type": "stream",
     "text": [
      "divya\n"
     ]
    }
   ],
   "source": [
    "l1=['divya','riya','priya','geeta']\n",
    "print(l1[0])                           #first element of list"
   ]
  },
  {
   "cell_type": "code",
   "execution_count": 106,
   "id": "612580bd-6033-41d9-a73a-f93587d7f19f",
   "metadata": {},
   "outputs": [
    {
     "name": "stdout",
     "output_type": "stream",
     "text": [
      "['divya', 'riya', 'priya', 'geeta']\n"
     ]
    }
   ],
   "source": [
    "print(l1[0:4])                        #start to 3 element"
   ]
  },
  {
   "cell_type": "code",
   "execution_count": 108,
   "id": "0d0ba39b-aabb-421a-9c69-384c3ce5aab6",
   "metadata": {},
   "outputs": [
    {
     "name": "stdout",
     "output_type": "stream",
     "text": [
      "['geeta', 'priya', 'riya', 'divya']\n"
     ]
    }
   ],
   "source": [
    "print(l1[::-1])                     #reverse list element"
   ]
  },
  {
   "cell_type": "code",
   "execution_count": 110,
   "id": "cd8542b0-4c56-4ab6-bc00-c385c6bb96b3",
   "metadata": {},
   "outputs": [
    {
     "name": "stdout",
     "output_type": "stream",
     "text": [
      "geeta\n"
     ]
    }
   ],
   "source": [
    "print(l1[-1])                       #last list element"
   ]
  },
  {
   "cell_type": "markdown",
   "id": "5893d606-2aad-4d46-8ea2-4e061ae4b060",
   "metadata": {},
   "source": [
    "length of list"
   ]
  },
  {
   "cell_type": "code",
   "execution_count": 111,
   "id": "0b98c12c-29d7-461e-8663-dd8f137b023e",
   "metadata": {},
   "outputs": [
    {
     "name": "stdout",
     "output_type": "stream",
     "text": [
      "4\n"
     ]
    }
   ],
   "source": [
    "print(len(l1))                     # 4 elements in list"
   ]
  },
  {
   "cell_type": "markdown",
   "id": "94f76372-9821-4b18-b256-6fe298138b30",
   "metadata": {},
   "source": [
    "change element at particular index"
   ]
  },
  {
   "cell_type": "code",
   "execution_count": 112,
   "id": "a9978090-325c-4be3-a695-e18b08e0da01",
   "metadata": {},
   "outputs": [
    {
     "name": "stdout",
     "output_type": "stream",
     "text": [
      "[10, 14, 17, 19]\n"
     ]
    }
   ],
   "source": [
    "l1=[12,14,17,19]\n",
    "l1[0]=10\n",
    "print(l1)                            #changed element at 0 index"
   ]
  },
  {
   "cell_type": "markdown",
   "id": "5fbdfe4a-c915-4e67-9bbc-84423c98fb01",
   "metadata": {},
   "source": [
    "append element at end of list"
   ]
  },
  {
   "cell_type": "code",
   "execution_count": 115,
   "id": "601a0579-986e-4fcd-bc52-d90131db0ac4",
   "metadata": {},
   "outputs": [
    {
     "name": "stdout",
     "output_type": "stream",
     "text": [
      "['divya', 'lila', 'pinku', 'rinku']\n"
     ]
    }
   ],
   "source": [
    "l2=['divya','lila','pinku']\n",
    "l2.append('rinku')                   #rinku at end of list\n",
    "print(l2)"
   ]
  },
  {
   "cell_type": "markdown",
   "id": "1c41c980-fd1a-42bf-aa36-7db390866efc",
   "metadata": {},
   "source": [
    "delete the last element of list"
   ]
  },
  {
   "cell_type": "code",
   "execution_count": 119,
   "id": "ee854e48-4b62-4389-9413-9e6830719bba",
   "metadata": {},
   "outputs": [
    {
     "name": "stdout",
     "output_type": "stream",
     "text": [
      "3000\n",
      "[100, 200]\n"
     ]
    }
   ],
   "source": [
    "l3=[100,200,3000]\n",
    "print(l3.pop())              #delete 3000 from list\n",
    "print(l3)"
   ]
  },
  {
   "cell_type": "markdown",
   "id": "b641faa7-96e3-455f-b86f-ce8bd0856d60",
   "metadata": {},
   "source": [
    "reverse element of list"
   ]
  },
  {
   "cell_type": "code",
   "execution_count": 123,
   "id": "145721a7-3c97-4a01-8d65-7871d3216c80",
   "metadata": {},
   "outputs": [
    {
     "data": {
      "text/plain": [
       "['nancy', 'princi', 'yukti']"
      ]
     },
     "execution_count": 123,
     "metadata": {},
     "output_type": "execute_result"
    }
   ],
   "source": [
    "l1=['yukti','princi','nancy']\n",
    "l1.reverse()\n",
    "l1"
   ]
  },
  {
   "cell_type": "code",
   "execution_count": 124,
   "id": "e08c36f7-cdc5-4ac6-a60d-afb559bfe405",
   "metadata": {},
   "outputs": [],
   "source": [
    "l2=l1[::-1]"
   ]
  },
  {
   "cell_type": "code",
   "execution_count": 125,
   "id": "d74be68e-294d-4a06-b6c9-32c0566a1fd2",
   "metadata": {},
   "outputs": [
    {
     "data": {
      "text/plain": [
       "['yukti', 'princi', 'nancy']"
      ]
     },
     "execution_count": 125,
     "metadata": {},
     "output_type": "execute_result"
    }
   ],
   "source": [
    "l2"
   ]
  },
  {
   "cell_type": "markdown",
   "id": "5540ab02-10fd-460f-b086-a5fec2a20ac9",
   "metadata": {},
   "source": [
    "insert element at specific index"
   ]
  },
  {
   "cell_type": "code",
   "execution_count": 127,
   "id": "b33e2389-4f40-46c6-9581-8961491b8e9d",
   "metadata": {},
   "outputs": [
    {
     "data": {
      "text/plain": [
       "['divya', 1000, 200, 3000]"
      ]
     },
     "execution_count": 127,
     "metadata": {},
     "output_type": "execute_result"
    }
   ],
   "source": [
    "l1=[1000,200,3000]\n",
    "l1.insert(0,'divya')               # divya is inserted at 0 position\n",
    "l1"
   ]
  },
  {
   "cell_type": "markdown",
   "id": "9b6c3676-3cd8-421e-815f-205bd27b4677",
   "metadata": {},
   "source": [
    "sort element in list"
   ]
  },
  {
   "cell_type": "code",
   "execution_count": 133,
   "id": "345984bd-d46e-46e9-9abf-aa45daa02fa3",
   "metadata": {},
   "outputs": [
    {
     "name": "stdout",
     "output_type": "stream",
     "text": [
      "[1, 12, 12, 13, 14, 22, 67]\n"
     ]
    }
   ],
   "source": [
    "l1=[12,13,14,67,22,1,12]\n",
    "l1.sort()\n",
    "print(l1)                   #sort element is asc order"
   ]
  },
  {
   "cell_type": "markdown",
   "id": "05d9038b-6897-4a95-9e3e-d64c49d115e4",
   "metadata": {},
   "source": [
    "concatenate list"
   ]
  },
  {
   "cell_type": "code",
   "execution_count": 134,
   "id": "716c462e-1374-46f7-97b7-817f7095281b",
   "metadata": {},
   "outputs": [
    {
     "name": "stdout",
     "output_type": "stream",
     "text": [
      "[10, 20, 30, 40, 50, 60]\n"
     ]
    }
   ],
   "source": [
    "l1=[10,20,30]\n",
    "l2=[40,50,60]\n",
    "l3=l1+l2\n",
    "print(l3)               #add both list"
   ]
  },
  {
   "cell_type": "markdown",
   "id": "06306793-515e-446b-a03a-0216e60e78bf",
   "metadata": {},
   "source": [
    "repeat element in list\n"
   ]
  },
  {
   "cell_type": "code",
   "execution_count": 135,
   "id": "6042aca1-ac0d-43ba-8075-310218344c9a",
   "metadata": {},
   "outputs": [
    {
     "name": "stdout",
     "output_type": "stream",
     "text": [
      "[10, 20, 30, 10, 20, 30, 10, 20, 30]\n"
     ]
    }
   ],
   "source": [
    "l1=[10,20,30]\n",
    "print(l1*3)              #repeat 3 times"
   ]
  },
  {
   "cell_type": "markdown",
   "id": "ca313183-2430-4b78-9c98-4c06d38fa8e4",
   "metadata": {},
   "source": []
  }
 ],
 "metadata": {
  "kernelspec": {
   "display_name": "Python 3",
   "language": "python",
   "name": "python3"
  },
  "language_info": {
   "codemirror_mode": {
    "name": "ipython",
    "version": 3
   },
   "file_extension": ".py",
   "mimetype": "text/x-python",
   "name": "python",
   "nbconvert_exporter": "python",
   "pygments_lexer": "ipython3",
   "version": "3.9.5"
  }
 },
 "nbformat": 4,
 "nbformat_minor": 5
}
